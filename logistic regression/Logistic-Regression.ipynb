{
 "cells": [
  {
   "cell_type": "code",
   "execution_count": 6,
   "metadata": {},
   "outputs": [
    {
     "name": "stdout",
     "output_type": "stream",
     "text": [
      "WARNING:tensorflow:From /Library/Frameworks/Python.framework/Versions/3.7/lib/python3.7/site-packages/tensorflow_core/python/compat/v2_compat.py:88: disable_resource_variables (from tensorflow.python.ops.variable_scope) is deprecated and will be removed in a future version.\n",
      "Instructions for updating:\n",
      "non-resource variables are not supported in the long term\n"
     ]
    }
   ],
   "source": [
    "import tensorflow.compat.v1 as tf\n",
    "tf.disable_v2_behavior() \n",
    "\n",
    "import pandas as pd\n",
    "import numpy as np\n",
    "import time\n",
    "from sklearn.datasets import load_iris\n",
    "from sklearn.model_selection import train_test_split\n",
    "import matplotlib.pyplot as plt"
   ]
  },
  {
   "cell_type": "code",
   "execution_count": 7,
   "metadata": {},
   "outputs": [],
   "source": [
    "iris = load_iris()\n",
    "iris_X, iris_y = iris.data[:-1,:], iris.target[:-1]\n",
    "iris_y= pd.get_dummies(iris_y).values\n",
    "trainX, testX, trainY, testY = train_test_split(iris_X, iris_y, test_size=0.33, random_state=42)"
   ]
  },
  {
   "cell_type": "code",
   "execution_count": 8,
   "metadata": {},
   "outputs": [],
   "source": [
    "# numFeatures is the number of features in our input data.\n",
    "# In the iris dataset, this number is '4'.\n",
    "numFeatures = trainX.shape[1]\n",
    "\n",
    "# numLabels is the number of classes our data points can be in.\n",
    "# In the iris dataset, this number is '3'.\n",
    "numLabels = trainY.shape[1]\n",
    "\n",
    "\n",
    "# Placeholders\n",
    "# 'None' means TensorFlow shouldn't expect a fixed number in that dimension\n",
    "X = tf.placeholder(tf.float32, [None, numFeatures]) # Iris has 4 features, so X is a tensor to hold our data.\n",
    "yGold = tf.placeholder(tf.float32, [None, numLabels]) # This will be our correct answers matrix for 3 classes."
   ]
  },
  {
   "cell_type": "code",
   "execution_count": 9,
   "metadata": {},
   "outputs": [],
   "source": [
    "W = tf.Variable(tf.zeros([4, 3]))  # 4-dimensional input and  3 classes\n",
    "b = tf.Variable(tf.zeros([3])) # 3-dimensional output [0,0,1],[0,1,0],[1,0,0]"
   ]
  },
  {
   "cell_type": "code",
   "execution_count": 10,
   "metadata": {},
   "outputs": [],
   "source": [
    "#Randomly sample from a normal distribution with standard deviation .01\n",
    "\n",
    "weights = tf.Variable(tf.random_normal([numFeatures,numLabels],\n",
    "                                       mean=0,\n",
    "                                       stddev=0.01,\n",
    "                                       name=\"weights\"))\n",
    "\n",
    "bias = tf.Variable(tf.random_normal([1,numLabels],\n",
    "                                    mean=0,\n",
    "                                    stddev=0.01,\n",
    "                                    name=\"bias\"))"
   ]
  },
  {
   "cell_type": "code",
   "execution_count": 11,
   "metadata": {},
   "outputs": [],
   "source": [
    "# Three-component breakdown of the Logistic Regression equation.\n",
    "# Note that these feed into each other.\n",
    "apply_weights_OP = tf.matmul(X, weights, name=\"apply_weights\")\n",
    "add_bias_OP = tf.add(apply_weights_OP, bias, name=\"add_bias\") \n",
    "activation_OP = tf.nn.sigmoid(add_bias_OP, name=\"activation\")"
   ]
  },
  {
   "cell_type": "code",
   "execution_count": 12,
   "metadata": {},
   "outputs": [],
   "source": [
    "# Number of Epochs in our training\n",
    "numEpochs = 700\n",
    "\n",
    "# Defining our learning rate iterations (decay)\n",
    "learningRate = tf.train.exponential_decay(learning_rate=0.0008,\n",
    "                                          global_step= 1,\n",
    "                                          decay_steps=trainX.shape[0],\n",
    "                                          decay_rate= 0.95,\n",
    "                                          staircase=True)"
   ]
  },
  {
   "cell_type": "code",
   "execution_count": 13,
   "metadata": {},
   "outputs": [],
   "source": [
    "#Defining our cost function - Squared Mean Error\n",
    "cost_OP = tf.nn.l2_loss(activation_OP-yGold, name=\"squared_error_cost\")\n",
    "\n",
    "#Defining our Gradient Descent\n",
    "training_OP = tf.train.GradientDescentOptimizer(learningRate).minimize(cost_OP)"
   ]
  },
  {
   "cell_type": "code",
   "execution_count": 14,
   "metadata": {},
   "outputs": [],
   "source": [
    "# Create a tensorflow session\n",
    "sess = tf.Session()\n",
    "\n",
    "# Initialize our weights and biases variables.\n",
    "init_OP = tf.global_variables_initializer()\n",
    "\n",
    "# Initialize all tensorflow variables\n",
    "sess.run(init_OP)"
   ]
  },
  {
   "cell_type": "code",
   "execution_count": 15,
   "metadata": {},
   "outputs": [],
   "source": [
    "# argmax(activation_OP, 1) returns the label with the most probability\n",
    "# argmax(yGold, 1) is the correct label\n",
    "correct_predictions_OP = tf.equal(tf.argmax(activation_OP,1),tf.argmax(yGold,1))\n",
    "\n",
    "# If every false prediction is 0 and every true prediction is 1, the average returns us the accuracy\n",
    "accuracy_OP = tf.reduce_mean(tf.cast(correct_predictions_OP, \"float\"))\n",
    "\n",
    "# Summary op for regression output\n",
    "activation_summary_OP = tf.summary.histogram(\"output\", activation_OP)\n",
    "\n",
    "# Summary op for accuracy\n",
    "accuracy_summary_OP = tf.summary.scalar(\"accuracy\", accuracy_OP)\n",
    "\n",
    "# Summary op for cost\n",
    "cost_summary_OP = tf.summary.scalar(\"cost\", cost_OP)\n",
    "\n",
    "# Summary ops to check how variables (W, b) are updating after each iteration\n",
    "weightSummary = tf.summary.histogram(\"weights\", weights.eval(session=sess))\n",
    "biasSummary = tf.summary.histogram(\"biases\", bias.eval(session=sess))\n",
    "\n",
    "# Merge all summaries\n",
    "merged = tf.summary.merge([activation_summary_OP, accuracy_summary_OP, cost_summary_OP, weightSummary, biasSummary])\n",
    "\n",
    "# Summary writer\n",
    "writer = tf.summary.FileWriter(\"summary_logs\", sess.graph)"
   ]
  },
  {
   "cell_type": "code",
   "execution_count": 16,
   "metadata": {},
   "outputs": [
    {
     "name": "stdout",
     "output_type": "stream",
     "text": [
      "step 0, training accuracy 0.656566, cost 34.6445, change in cost 34.6445\n",
      "step 10, training accuracy 0.333333, cost 30.3598, change in cost 4.28468\n",
      "step 20, training accuracy 0.646465, cost 28.374, change in cost 1.98576\n",
      "step 30, training accuracy 0.646465, cost 26.6924, change in cost 1.68158\n",
      "step 40, training accuracy 0.646465, cost 25.2928, change in cost 1.39961\n",
      "step 50, training accuracy 0.646465, cost 24.1361, change in cost 1.15672\n",
      "step 60, training accuracy 0.646465, cost 23.1791, change in cost 0.956972\n",
      "step 70, training accuracy 0.646465, cost 22.3827, change in cost 0.796417\n",
      "step 80, training accuracy 0.646465, cost 21.7142, change in cost 0.668489\n",
      "step 90, training accuracy 0.646465, cost 21.1476, change in cost 0.566603\n",
      "step 100, training accuracy 0.666667, cost 20.6625, change in cost 0.485113\n",
      "step 110, training accuracy 0.666667, cost 20.243, change in cost 0.419493\n",
      "step 120, training accuracy 0.666667, cost 19.8768, change in cost 0.366207\n",
      "step 130, training accuracy 0.666667, cost 19.5543, change in cost 0.322575\n",
      "step 140, training accuracy 0.666667, cost 19.2677, change in cost 0.286522\n",
      "step 150, training accuracy 0.666667, cost 19.0112, change in cost 0.256491\n",
      "step 160, training accuracy 0.686869, cost 18.78, change in cost 0.231256\n",
      "step 170, training accuracy 0.686869, cost 18.5701, change in cost 0.209885\n",
      "step 180, training accuracy 0.69697, cost 18.3784, change in cost 0.191658\n",
      "step 190, training accuracy 0.717172, cost 18.2024, change in cost 0.175989\n",
      "step 200, training accuracy 0.717172, cost 18.04, change in cost 0.162445\n",
      "step 210, training accuracy 0.737374, cost 17.8894, change in cost 0.150652\n",
      "step 220, training accuracy 0.747475, cost 17.749, change in cost 0.140324\n",
      "step 230, training accuracy 0.747475, cost 17.6178, change in cost 0.131233\n",
      "step 240, training accuracy 0.757576, cost 17.4946, change in cost 0.123184\n",
      "step 250, training accuracy 0.777778, cost 17.3786, change in cost 0.116022\n",
      "step 260, training accuracy 0.787879, cost 17.269, change in cost 0.109625\n",
      "step 270, training accuracy 0.787879, cost 17.1651, change in cost 0.103876\n",
      "step 280, training accuracy 0.787879, cost 17.0664, change in cost 0.0986958\n",
      "step 290, training accuracy 0.787879, cost 16.9724, change in cost 0.0940037\n",
      "step 300, training accuracy 0.79798, cost 16.8826, change in cost 0.0897408\n",
      "step 310, training accuracy 0.79798, cost 16.7968, change in cost 0.0858517\n",
      "step 320, training accuracy 0.79798, cost 16.7145, change in cost 0.0822945\n",
      "step 330, training accuracy 0.79798, cost 16.6355, change in cost 0.0790253\n",
      "step 340, training accuracy 0.818182, cost 16.5595, change in cost 0.0760155\n",
      "step 350, training accuracy 0.828283, cost 16.4862, change in cost 0.0732365\n",
      "step 360, training accuracy 0.838384, cost 16.4156, change in cost 0.0706596\n",
      "step 370, training accuracy 0.838384, cost 16.3473, change in cost 0.0682697\n",
      "step 380, training accuracy 0.838384, cost 16.2813, change in cost 0.06604\n",
      "step 390, training accuracy 0.848485, cost 16.2173, change in cost 0.063961\n",
      "step 400, training accuracy 0.848485, cost 16.1553, change in cost 0.0620155\n",
      "step 410, training accuracy 0.848485, cost 16.0951, change in cost 0.0601902\n",
      "step 420, training accuracy 0.848485, cost 16.0366, change in cost 0.0584774\n",
      "step 430, training accuracy 0.858586, cost 15.9798, change in cost 0.0568609\n",
      "step 440, training accuracy 0.858586, cost 15.9244, change in cost 0.0553389\n",
      "step 450, training accuracy 0.868687, cost 15.8705, change in cost 0.0538988\n",
      "step 460, training accuracy 0.878788, cost 15.818, change in cost 0.052536\n",
      "step 470, training accuracy 0.878788, cost 15.7667, change in cost 0.0512466\n",
      "step 480, training accuracy 0.878788, cost 15.7167, change in cost 0.0500174\n",
      "step 490, training accuracy 0.878788, cost 15.6679, change in cost 0.0488501\n",
      "step 500, training accuracy 0.878788, cost 15.6201, change in cost 0.0477381\n",
      "step 510, training accuracy 0.878788, cost 15.5734, change in cost 0.0466785\n",
      "step 520, training accuracy 0.878788, cost 15.5278, change in cost 0.0456629\n",
      "step 530, training accuracy 0.888889, cost 15.4831, change in cost 0.0446959\n",
      "step 540, training accuracy 0.89899, cost 15.4393, change in cost 0.043766\n",
      "step 550, training accuracy 0.89899, cost 15.3964, change in cost 0.0428801\n",
      "step 560, training accuracy 0.89899, cost 15.3544, change in cost 0.0420246\n",
      "step 570, training accuracy 0.89899, cost 15.3132, change in cost 0.0412035\n",
      "step 580, training accuracy 0.89899, cost 15.2728, change in cost 0.0404177\n",
      "step 590, training accuracy 0.909091, cost 15.2331, change in cost 0.0396585\n",
      "step 600, training accuracy 0.909091, cost 15.1942, change in cost 0.0389271\n",
      "step 610, training accuracy 0.909091, cost 15.156, change in cost 0.0382204\n",
      "step 620, training accuracy 0.909091, cost 15.1184, change in cost 0.0375423\n",
      "step 630, training accuracy 0.909091, cost 15.0816, change in cost 0.0368862\n",
      "step 640, training accuracy 0.909091, cost 15.0453, change in cost 0.0362511\n",
      "step 650, training accuracy 0.909091, cost 15.0097, change in cost 0.0356379\n",
      "step 660, training accuracy 0.909091, cost 14.9746, change in cost 0.0350409\n",
      "step 670, training accuracy 0.909091, cost 14.9402, change in cost 0.0344667\n",
      "step 680, training accuracy 0.909091, cost 14.9063, change in cost 0.0339098\n",
      "step 690, training accuracy 0.909091, cost 14.8729, change in cost 0.0333672\n",
      "final accuracy on test set: 0.9\n"
     ]
    }
   ],
   "source": [
    "# Initialize reporting variables\n",
    "cost = 0\n",
    "diff = 1\n",
    "epoch_values = []\n",
    "accuracy_values = []\n",
    "cost_values = []\n",
    "\n",
    "# Training epochs\n",
    "for i in range(numEpochs):\n",
    "    if i > 1 and diff < .0001:\n",
    "        print(\"change in cost %g; convergence.\"%diff)\n",
    "        break\n",
    "    else:\n",
    "        # Run training step\n",
    "        step = sess.run(training_OP, feed_dict={X: trainX, yGold: trainY})\n",
    "        # Report occasional stats\n",
    "        if i % 10 == 0:\n",
    "            # Add epoch to epoch_values\n",
    "            epoch_values.append(i)\n",
    "            # Generate accuracy stats on test data\n",
    "            train_accuracy, newCost = sess.run([accuracy_OP, cost_OP], feed_dict={X: trainX, yGold: trainY})\n",
    "            # Add accuracy to live graphing variable\n",
    "            accuracy_values.append(train_accuracy)\n",
    "            # Add cost to live graphing variable\n",
    "            cost_values.append(newCost)\n",
    "            # Re-assign values for variables\n",
    "            diff = abs(newCost - cost)\n",
    "            cost = newCost\n",
    "\n",
    "            #generate print statements\n",
    "            print(\"step %d, training accuracy %g, cost %g, change in cost %g\"%(i, train_accuracy, newCost, diff))\n",
    "\n",
    "\n",
    "# How well do we perform on held-out test data?\n",
    "print(\"final accuracy on test set: %s\" %str(sess.run(accuracy_OP, \n",
    "                                                     feed_dict={X: testX, \n",
    "                                                                yGold: testY})))"
   ]
  },
  {
   "cell_type": "code",
   "execution_count": 17,
   "metadata": {},
   "outputs": [
    {
     "name": "stderr",
     "output_type": "stream",
     "text": [
      "/Library/Frameworks/Python.framework/Versions/3.7/lib/python3.7/site-packages/numpy/core/fromnumeric.py:3335: RuntimeWarning: Mean of empty slice.\n",
      "  out=out, **kwargs)\n",
      "/Library/Frameworks/Python.framework/Versions/3.7/lib/python3.7/site-packages/numpy/core/_methods.py:161: RuntimeWarning: invalid value encountered in double_scalars\n",
      "  ret = ret.dtype.type(ret / rcount)\n"
     ]
    },
    {
     "data": {
      "image/png": "[encoded data removed]",
      "text/plain": [
       "<Figure size 432x288 with 1 Axes>"
      ]
     },
     "metadata": {
      "needs_background": "light"
     },
     "output_type": "display_data"
    }
   ],
   "source": [
    "%matplotlib inline\n",
    "import numpy as np\n",
    "import matplotlib.pyplot as plt\n",
    "plt.plot([np.mean(cost_values[i-50:i]) for i in range(len(cost_values))])\n",
    "plt.show()"
   ]
  },
  {
   "cell_type": "code",
   "execution_count": null,
   "metadata": {},
   "outputs": [],
   "source": []
  }
 ],
 "metadata": {
  "kernelspec": {
   "display_name": "Python 3.7.4 64-bit",
   "language": "python",
   "name": "python37464bit78f1b9b18f8f431ab355b76250c23a94"
  },
  "language_info": {
   "codemirror_mode": {
    "name": "ipython",
    "version": 3
   },
   "file_extension": ".py",
   "mimetype": "text/x-python",
   "name": "python",
   "nbconvert_exporter": "python",
   "pygments_lexer": "ipython3",
   "version": "3.7.4"
  }
 },
 "nbformat": 4,
 "nbformat_minor": 4
}
