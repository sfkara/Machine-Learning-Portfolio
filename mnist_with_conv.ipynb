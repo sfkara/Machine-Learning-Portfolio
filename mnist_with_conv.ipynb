{
  "nbformat": 4,
  "nbformat_minor": 0,
  "metadata": {
    "colab": {
      "name": "mnist_with_conv.ipynb",
      "provenance": []
    },
    "kernelspec": {
      "name": "python3",
      "display_name": "Python 3"
    },
    "language_info": {
      "name": "python"
    },
    "accelerator": "GPU"
  },
  "cells": [
    {
      "cell_type": "code",
      "metadata": {
        "id": "BmjQU5cFR1iQ"
      },
      "source": [
        "import tensorflow as tf\n",
        "from os import path, getcwd, chdir\n"
      ],
      "execution_count": 11,
      "outputs": []
    },
    {
      "cell_type": "code",
      "metadata": {
        "colab": {
          "base_uri": "https://localhost:8080/"
        },
        "id": "KBbI6XjySEDv",
        "outputId": "de9cb57e-9374-475f-f783-c5840cd098e5"
      },
      "source": [
        "\n",
        "DESIRED_ACCURACY = 0.998\n",
        "class myCallback(tf.keras.callbacks.Callback):\n",
        "    def on_epoch_end(self,epoch,logs={}):\n",
        "        if(logs.get('acc') is not None and logs.get('acc')>=DESIRED_ACCURACY):\n",
        "            print(\"\\nReached 99.8% accuracy so cancelling training!\")\n",
        "            self.model.stop_training = True\n",
        "\n",
        "\n",
        "\n",
        "mnist = tf.keras.datasets.mnist\n",
        "(training_images, training_labels), (test_images, test_labels) = mnist.load_data()\n",
        "\n",
        "callbacks = myCallback()\n",
        "training_images = training_images.reshape(60000,28,28,1)\n",
        "training_images = training_images / 255\n",
        "test_images = test_images.reshape(10000,28,28,1)\n",
        "test_images = test_images / 255\n",
        "\n",
        "\n",
        "\n",
        "model = tf.keras.models.Sequential([\n",
        "        \n",
        "        \n",
        "        tf.keras.layers.Conv2D(64,(3,3),activation = tf.nn.relu,input_shape=(28, 28, 1)),\n",
        "        tf.keras.layers.MaxPooling2D(2,2),\n",
        "        tf.keras.layers.Conv2D(64,(3,3),activation = tf.nn.relu,input_shape=(28, 28, 1)),\n",
        "        tf.keras.layers.MaxPooling2D(2,2),\n",
        "    \n",
        "        tf.keras.layers.Flatten(),\n",
        "        tf.keras.layers.Dense(128, activation=tf.nn.relu),\n",
        "        tf.keras.layers.Dense(10, activation=tf.nn.softmax)\n",
        "        \n",
        "])\n",
        "\n",
        "model.compile(optimizer='adam', loss='sparse_categorical_crossentropy', metrics=['acc'])\n",
        "# model fitting\n",
        "history = model.fit(\n",
        "    # YOUR CODE STARTS HERE\n",
        "    training_images,training_labels,epochs = 19,callbacks= [callbacks]\n",
        "    # YOUR CODE ENDS HERE\n",
        ")\n",
        "# model fitting\n",
        "#return history.epoch, history.history['acc'][-1]\n"
      ],
      "execution_count": null,
      "outputs": [
        {
          "output_type": "stream",
          "text": [
            "Epoch 1/19\n",
            "1875/1875 [==============================] - 5s 3ms/step - loss: 0.2819 - acc: 0.9133\n",
            "Epoch 2/19\n",
            "1875/1875 [==============================] - 5s 3ms/step - loss: 0.0432 - acc: 0.9867\n",
            "Epoch 3/19\n",
            "1875/1875 [==============================] - 5s 2ms/step - loss: 0.0256 - acc: 0.9920\n",
            "Epoch 4/19\n",
            "1875/1875 [==============================] - 5s 2ms/step - loss: 0.0176 - acc: 0.9947\n",
            "Epoch 5/19\n",
            "1875/1875 [==============================] - 5s 3ms/step - loss: 0.0138 - acc: 0.9956\n",
            "Epoch 6/19\n",
            "1875/1875 [==============================] - 5s 2ms/step - loss: 0.0101 - acc: 0.9967\n",
            "Epoch 7/19\n",
            "1875/1875 [==============================] - 5s 3ms/step - loss: 0.0098 - acc: 0.9968\n",
            "Epoch 8/19\n",
            "1875/1875 [==============================] - 5s 3ms/step - loss: 0.0065 - acc: 0.9977\n",
            "Epoch 9/19\n",
            " 621/1875 [========>.....................] - ETA: 3s - loss: 0.0036 - acc: 0.9988"
          ],
          "name": "stdout"
        }
      ]
    },
    {
      "cell_type": "code",
      "metadata": {
        "id": "l20VmJccSgX2"
      },
      "source": [
        ""
      ],
      "execution_count": null,
      "outputs": []
    }
  ]
}